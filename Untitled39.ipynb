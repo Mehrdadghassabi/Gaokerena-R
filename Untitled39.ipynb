{
  "nbformat": 4,
  "nbformat_minor": 0,
  "metadata": {
    "colab": {
      "provenance": []
    },
    "kernelspec": {
      "name": "python3",
      "display_name": "Python 3"
    },
    "language_info": {
      "name": "python"
    }
  },
  "cells": [
    {
      "cell_type": "code",
      "source": [
        "!pip install openai==0.28"
      ],
      "metadata": {
        "colab": {
          "base_uri": "https://localhost:8080/"
        },
        "id": "b3oR2AeiCA4f",
        "outputId": "00a0df71-7585-4951-a487-a9f2f74f5bd6"
      },
      "execution_count": 1,
      "outputs": [
        {
          "output_type": "stream",
          "name": "stdout",
          "text": [
            "Collecting openai==0.28\n",
            "  Downloading openai-0.28.0-py3-none-any.whl.metadata (13 kB)\n",
            "Requirement already satisfied: requests>=2.20 in /usr/local/lib/python3.11/dist-packages (from openai==0.28) (2.32.3)\n",
            "Requirement already satisfied: tqdm in /usr/local/lib/python3.11/dist-packages (from openai==0.28) (4.67.1)\n",
            "Requirement already satisfied: aiohttp in /usr/local/lib/python3.11/dist-packages (from openai==0.28) (3.11.13)\n",
            "Requirement already satisfied: charset-normalizer<4,>=2 in /usr/local/lib/python3.11/dist-packages (from requests>=2.20->openai==0.28) (3.4.1)\n",
            "Requirement already satisfied: idna<4,>=2.5 in /usr/local/lib/python3.11/dist-packages (from requests>=2.20->openai==0.28) (3.10)\n",
            "Requirement already satisfied: urllib3<3,>=1.21.1 in /usr/local/lib/python3.11/dist-packages (from requests>=2.20->openai==0.28) (2.3.0)\n",
            "Requirement already satisfied: certifi>=2017.4.17 in /usr/local/lib/python3.11/dist-packages (from requests>=2.20->openai==0.28) (2025.1.31)\n",
            "Requirement already satisfied: aiohappyeyeballs>=2.3.0 in /usr/local/lib/python3.11/dist-packages (from aiohttp->openai==0.28) (2.4.6)\n",
            "Requirement already satisfied: aiosignal>=1.1.2 in /usr/local/lib/python3.11/dist-packages (from aiohttp->openai==0.28) (1.3.2)\n",
            "Requirement already satisfied: attrs>=17.3.0 in /usr/local/lib/python3.11/dist-packages (from aiohttp->openai==0.28) (25.1.0)\n",
            "Requirement already satisfied: frozenlist>=1.1.1 in /usr/local/lib/python3.11/dist-packages (from aiohttp->openai==0.28) (1.5.0)\n",
            "Requirement already satisfied: multidict<7.0,>=4.5 in /usr/local/lib/python3.11/dist-packages (from aiohttp->openai==0.28) (6.1.0)\n",
            "Requirement already satisfied: propcache>=0.2.0 in /usr/local/lib/python3.11/dist-packages (from aiohttp->openai==0.28) (0.3.0)\n",
            "Requirement already satisfied: yarl<2.0,>=1.17.0 in /usr/local/lib/python3.11/dist-packages (from aiohttp->openai==0.28) (1.18.3)\n",
            "Downloading openai-0.28.0-py3-none-any.whl (76 kB)\n",
            "\u001b[2K   \u001b[90m━━━━━━━━━━━━━━━━━━━━━━━━━━━━━━━━━━━━━━━━\u001b[0m \u001b[32m76.5/76.5 kB\u001b[0m \u001b[31m4.8 MB/s\u001b[0m eta \u001b[36m0:00:00\u001b[0m\n",
            "\u001b[?25hInstalling collected packages: openai\n",
            "  Attempting uninstall: openai\n",
            "    Found existing installation: openai 1.61.1\n",
            "    Uninstalling openai-1.61.1:\n",
            "      Successfully uninstalled openai-1.61.1\n",
            "Successfully installed openai-0.28.0\n"
          ]
        }
      ]
    },
    {
      "cell_type": "code",
      "source": [
        "import re\n",
        "import pandas as pd\n",
        "import openai"
      ],
      "metadata": {
        "id": "3dRcQ4Jj79tz"
      },
      "execution_count": 2,
      "outputs": []
    },
    {
      "cell_type": "code",
      "source": [
        "openai.api_key = 'Your-api'\n",
        "# comment the below line if you use original OPENAI api\n",
        "openai.api_base = 'https://api.avalai.ir/v1'"
      ],
      "metadata": {
        "id": "wqtxzSItBofM"
      },
      "execution_count": 13,
      "outputs": []
    },
    {
      "cell_type": "code",
      "source": [
        "prompt = f'''\n",
        "وظیفه شما طراحی کردن کردن پانزده پرسش پزشکی چند گزینه ای به زبان فارسی مشابه پرسش نمونه است لطفا در فرمت زیر و بدون ارائه توضیحات اضافی پرسش ها را تولید کنید.\n",
        "یک پرسش نمونه نیز برای شما پیوست شده است.\n",
        "# format\n",
        "Question: your question\n",
        "Option A: your Option A\n",
        "Option B: your Option B\n",
        "Option C: your Option C\n",
        "Option D: your Option D\n",
        "Correct Option: your Correct Option\n",
        "===================================\n",
        "Question: your question\n",
        "Option A: your Option A\n",
        "Option B: your Option B\n",
        "Option C: your Option C\n",
        "Option D: your Option D\n",
        "Correct Option: your Correct Option\n",
        "===================================\n",
        "etc ....\n",
        "\n",
        "\n",
        "# example\n",
        "Question: {{question}}\n",
        "Option A: {{optiona}}\n",
        "Option B: {{optionb}}\n",
        "Option C: {{optionc}}\n",
        "Option D: {{optiond}}\n",
        "Correct Option: {{correctoption}}\n",
        "'''"
      ],
      "metadata": {
        "id": "tP7bO1vDK2t4"
      },
      "execution_count": 25,
      "outputs": []
    },
    {
      "cell_type": "code",
      "source": [
        "def get_qa_elements(text):\n",
        "    text = text + '\\n'\n",
        "    pattern1 = r\"Question: (.*?)\\nOption A: (.*?)\\nOption B: (.*?)\\nOption C: (.*?)\\nOption D: (.*?)\\nCorrect Option: (.*?)\\n\"\n",
        "    pattern2 = r\"question: (.*?)\\noption a: (.*?)\\noption b: (.*?)\\noption c: (.*?)\\noption d: (.*?)\\ncorrect option: (.*?)\\n\"\n",
        "    match1 = re.search(pattern1, text, re.DOTALL | re.IGNORECASE)\n",
        "    match2 = re.search(pattern2, text, re.DOTALL | re.IGNORECASE)\n",
        "    if match1:\n",
        "       question = match1.group(1).strip()\n",
        "       option_a = match1.group(2).strip()\n",
        "       option_b = match1.group(3).strip()\n",
        "       option_c = match1.group(4).strip()\n",
        "       option_d = match1.group(5).strip()\n",
        "       correct_option = match1.group(6).strip()\n",
        "    elif match2:\n",
        "       question = match2.group(1).strip()\n",
        "       option_a = match2.group(2).strip()\n",
        "       option_b = match2.group(3).strip()\n",
        "       option_c = match2.group(4).strip()\n",
        "       option_d = match2.group(5).strip()\n",
        "       correct_option = match2.group(6).strip()\n",
        "    else:\n",
        "       print('not matched input manually...  ' + '\\n')\n",
        "       print(text + '\\n')\n",
        "       question = input('question: ')\n",
        "       print()\n",
        "       option_a = input('option_a: ')\n",
        "       print()\n",
        "       option_b = input('option_b: ')\n",
        "       print()\n",
        "       option_c = input('option_c: ')\n",
        "       print()\n",
        "       option_d = input('option_d: ')\n",
        "       print()\n",
        "       correct_option = input('correct_option: ')\n",
        "       print()\n",
        "       print('$$$$$$$$$')\n",
        "    return question,option_a,option_b,option_c,option_d,correct_option\n",
        "\n",
        "def append_record_to_excel(file_path,question,op1,op2,op3,op4,ca):\n",
        "    if question == '.':\n",
        "       pass\n",
        "    else:\n",
        "        new_record = {\n",
        "            'Question': question,\n",
        "            'Option1': op1,\n",
        "            'Option2': op2,\n",
        "            'Option3': op3,\n",
        "            'Option4': op4,\n",
        "            'Correct answer': ca,\n",
        "        }\n",
        "        new_record_df = pd.DataFrame([new_record])\n",
        "        try:\n",
        "            existing_df = pd.read_excel(file_path)\n",
        "            updated_df = pd.concat([existing_df, new_record_df], ignore_index=True)\n",
        "        except FileNotFoundError:\n",
        "            updated_df = new_record_df\n",
        "\n",
        "        updated_df.to_excel(file_path, index=False)\n",
        "\n",
        "def get_deepseek_answer(prompt):\n",
        "    response = openai.ChatCompletion.create(\n",
        "        model=\"deepseek-chat\",\n",
        "        messages=[\n",
        "            {\"role\": \"user\", \"content\": prompt}\n",
        "        ],\n",
        "        temperature = 0.0\n",
        "    )\n",
        "    result = response['choices'][0]['message']['content'].strip().lower()\n",
        "    return result\n",
        "\n",
        "def remove_duplicated(file_path):\n",
        "    df = pd.read_excel(file_path)\n",
        "    dfp = df.drop_duplicates(subset='Question', keep='first')  # Use 'last' to keep the last occurrence or False to remove all duplicates\n",
        "    dfp.to_excel(file_path, index=False)"
      ],
      "metadata": {
        "id": "zqMgwFkH4duk"
      },
      "execution_count": 35,
      "outputs": []
    },
    {
      "cell_type": "code",
      "execution_count": null,
      "metadata": {
        "colab": {
          "base_uri": "https://localhost:8080/"
        },
        "id": "1Qno69G0ZATi",
        "outputId": "07ebe01f-673e-4fbb-ee40-f47a7e9b1ed1"
      },
      "outputs": [
        {
          "output_type": "stream",
          "name": "stdout",
          "text": [
            "not matched input manually...  \n",
            "\n",
            "\n",
            "\n",
            "\n",
            "question: .\n",
            "\n",
            "option_a: .\n",
            "\n",
            "option_b: .\n",
            "\n",
            "option_c: .\n",
            "\n",
            "option_d: .\n",
            "\n",
            "correct_option: .\n",
            "\n",
            "$$$$$$$$$\n",
            "16\n",
            "==================================================================================\n",
            "17\n",
            "==================================================================================\n",
            "18\n",
            "==================================================================================\n"
          ]
        }
      ],
      "source": [
        "df = pd.read_excel('kopp_larger.xlsx')\n",
        "i = 0\n",
        "bgn = 15\n",
        "for index,row in df.iterrows():\n",
        "        if i <= bgn - 1:\n",
        "           i += 1\n",
        "           continue\n",
        "        question = row['Question']\n",
        "        option1 = row['Option1']\n",
        "        option2 = row['Option2']\n",
        "        option3 = row['Option3']\n",
        "        option4 = row['Option4']\n",
        "        correct_answer = row['Correct answer']\n",
        "        topic = row['Topic']\n",
        "        source = row['Source']\n",
        "        prmpt = prompt.format(topic=topic,question=question,optiona=option1,optionb=option2,optionc=option3,optiond=option4,correctoption=correct_answer)\n",
        "        generated_qas = get_deepseek_answer(prompt).split('===================================')\n",
        "        for qa in generated_qas:\n",
        "            gquestion,goption_a,goption_b,goption_c,goption_d,gcorrect_option = get_qa_elements(qa.strip())\n",
        "            append_record_to_excel(file_path='./generated_qas.xlsx',question=gquestion,op1=goption_a,\n",
        "                                   op2=goption_b,op3=goption_c,op4=goption_d,ca=gcorrect_option)\n",
        "        i += 1\n",
        "        print(i)\n",
        "        print('==================================================================================')"
      ]
    },
    {
      "cell_type": "code",
      "source": [
        "remove_duplicated('./generated_qas.xlsx')"
      ],
      "metadata": {
        "id": "drXikpzWkbNC"
      },
      "execution_count": 30,
      "outputs": []
    }
  ]
}