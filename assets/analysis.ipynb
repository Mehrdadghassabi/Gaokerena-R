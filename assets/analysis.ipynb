{
  "nbformat": 4,
  "nbformat_minor": 0,
  "metadata": {
    "colab": {
      "provenance": []
    },
    "kernelspec": {
      "name": "python3",
      "display_name": "Python 3"
    },
    "language_info": {
      "name": "python"
    }
  },
  "cells": [
    {
      "cell_type": "code",
      "execution_count": 1,
      "metadata": {
        "colab": {
          "base_uri": "https://localhost:8080/"
        },
        "id": "nBSKZp-mqrGd",
        "outputId": "ab1a64ff-fb82-4069-f323-81883fe0d2e6"
      },
      "outputs": [
        {
          "output_type": "stream",
          "name": "stdout",
          "text": [
            "All Excel files have been appended and saved to 'combined_output.xlsx'.\n"
          ]
        }
      ],
      "source": [
        "import pandas as pd\n",
        "import os\n",
        "\n",
        "\n",
        "directory = './'\n",
        "\n",
        "dataframes = []\n",
        "\n",
        "for filename in os.listdir(directory):\n",
        "    if filename.endswith('.xlsx') or filename.endswith('.xls'):\n",
        "        file_path = os.path.join(directory, filename)\n",
        "        df = pd.read_excel(file_path)\n",
        "        dataframes.append(df)\n",
        "\n",
        "\n",
        "combined_df = pd.concat(dataframes, ignore_index=True)\n",
        "combined_df.to_excel('combined_output.xlsx', index=False)\n",
        "print(\"All Excel files have been appended and saved to 'combined_output.xlsx'.\")"
      ]
    },
    {
      "cell_type": "code",
      "source": [
        "# Calculate the total number of tokens in the 'prefered_answer' column\n",
        "# We can approximate tokens by splitting the string by spaces and counting the words\n",
        "total_tokens = combined_df['prefered_answer'].astype(str).str.split().str.len().sum()\n",
        "\n",
        "print(f\"Total number of tokens in the 'prefered_answer' column (space-split): {total_tokens}\")"
      ],
      "metadata": {
        "colab": {
          "base_uri": "https://localhost:8080/"
        },
        "id": "wUpox5fKsq44",
        "outputId": "00926960-f563-4f66-eba6-85c12cfe0420"
      },
      "execution_count": 6,
      "outputs": [
        {
          "output_type": "stream",
          "name": "stdout",
          "text": [
            "Total number of tokens in the 'prefered_answer' column (space-split): 1907101\n"
          ]
        }
      ]
    },
    {
      "cell_type": "code",
      "source": [
        "# Calculate the total number of tokens in the 'prefered_answer' column\n",
        "# We can approximate tokens by splitting the string by spaces and counting the words\n",
        "total_tokens = combined_df['rejected_answer'].astype(str).str.split().str.len().sum()\n",
        "\n",
        "print(f\"Total number of tokens in the 'rejected_answer' column (space-split): {total_tokens}\")"
      ],
      "metadata": {
        "colab": {
          "base_uri": "https://localhost:8080/"
        },
        "id": "NTUfl8b6tAfs",
        "outputId": "76f90e55-73a5-4bfb-f35f-c1e2767d5cab"
      },
      "execution_count": 8,
      "outputs": [
        {
          "output_type": "stream",
          "name": "stdout",
          "text": [
            "Total number of tokens in the 'rejected_answer' column (space-split): 2566349\n"
          ]
        }
      ]
    }
  ]
}